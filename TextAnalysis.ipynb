{
 "cells": [
  {
   "cell_type": "markdown",
   "metadata": {},
   "source": [
    "## Preprocessing"
   ]
  },
  {
   "cell_type": "code",
   "execution_count": 5,
   "metadata": {},
   "outputs": [],
   "source": [
    "import pandas as pd\n",
    "import re\n",
    "\n",
    "data = pd.read_csv('test_selenium.csv')\n",
    "summaries = data['Summary']\n",
    "analyses = data['Analysis']\n",
    "titles = data['Title']\n",
    "\n",
    "corpus = [f\"{title} {summary} {analysis}\" for title, summary, analysis in zip(titles, summaries, analyses)]\n",
    "\n",
    "def preprocess_text(text):\n",
    "    text = text.lower()\n",
    "    text = re.sub(r'[^\\w\\s]', '', text)\n",
    "    text = re.sub(r'\\d+', '', text)\n",
    "    text = text.strip()\n",
    "    return text\n",
    "\n",
    "preprocessed_corpus = [preprocess_text(text) for text in corpus]\n",
    "\n",
    "tokenized_corpus = [text.split() for text in preprocessed_corpus]"
   ]
  },
  {
   "cell_type": "markdown",
   "metadata": {},
   "source": [
    "## Training Word Embedding Model To Obtain Embeddings"
   ]
  },
  {
   "cell_type": "code",
   "execution_count": 8,
   "metadata": {},
   "outputs": [],
   "source": [
    "from gensim.models import Word2Vec\n",
    "\n",
    "Word2Vec_model_sg = Word2Vec(tokenized_corpus, vector_size=100, window=5, min_count=1, workers=4, sg=1)\n",
    "\n",
    "Word2Vec_model_sg.save('Word2Vec_model_sg')"
   ]
  },
  {
   "cell_type": "code",
   "execution_count": 10,
   "metadata": {},
   "outputs": [
    {
     "name": "stdout",
     "output_type": "stream",
     "text": [
      "[-0.18757609 -0.02523065  0.10822345  0.25279427  0.09404436 -0.14556998\n",
      "  0.31167802  0.56639236 -0.07748945 -0.11939991 -0.2481058  -0.37848467\n",
      " -0.0188977  -0.1670922  -0.10497189 -0.08356968 -0.0615345   0.10890697\n",
      " -0.10079912 -0.40617284 -0.00819069 -0.1524098   0.16265742 -0.03898332\n",
      " -0.06940196  0.04204768 -0.03904338 -0.06583715 -0.15557028  0.20045884\n",
      "  0.3325572   0.00232724  0.14604664 -0.25277588 -0.20083642  0.21060328\n",
      "  0.01625244 -0.34341818 -0.21040498 -0.30221328  0.05520817 -0.08441182\n",
      "  0.0313545   0.01122725  0.27458957 -0.2581353  -0.3079668  -0.02439034\n",
      " -0.22528283  0.05035021 -0.07226291 -0.00409833 -0.03894206  0.06516527\n",
      "  0.09041492 -0.08996686  0.08819439 -0.06942315  0.07562473  0.10474674\n",
      "  0.00300599 -0.16347326  0.36412808  0.02851762 -0.01989603  0.17973474\n",
      "  0.06861334  0.25913286 -0.15470749  0.06786061 -0.00504779  0.20889491\n",
      "  0.2030788  -0.25446317  0.15321966  0.13806863  0.31823     0.15149638\n",
      " -0.43128183 -0.07699223 -0.12870276 -0.00841347  0.10805228  0.12347965\n",
      "  0.12361367  0.10686838  0.18896607  0.06795093  0.2968159   0.09123122\n",
      "  0.21289487  0.4078225   0.00973898  0.17752181  0.34776276 -0.07055833\n",
      " -0.01305874 -0.35923305  0.16940497  0.01615659]\n"
     ]
    }
   ],
   "source": [
    "test_vector = Word2Vec_model_sg.wv['darkness']\n",
    "print(test_vector)"
   ]
  },
  {
   "cell_type": "code",
   "execution_count": 18,
   "metadata": {},
   "outputs": [
    {
     "name": "stdout",
     "output_type": "stream",
     "text": [
      "[('brother', 0.8718932867050171), ('wife', 0.8443353176116943), ('servant', 0.8382858633995056), ('sister', 0.8214103579521179), ('aunt', 0.8185446858406067), ('girlfriend', 0.8092584609985352), ('acquaintance', 0.802879810333252), ('grandfather', 0.8003736138343811), ('roommate', 0.7951571345329285), ('companion', 0.7915104627609253)]\n"
     ]
    }
   ],
   "source": [
    "similar_words = Word2Vec_model_sg.wv.most_similar('friend')\n",
    "print(similar_words)"
   ]
  },
  {
   "cell_type": "code",
   "execution_count": 25,
   "metadata": {},
   "outputs": [
    {
     "name": "stdout",
     "output_type": "stream",
     "text": [
      "Most similar entry: the-killers George brings Max and Al their meals, but they can’t remember who ordered what. As they eat, they catch George looking at them. Al suggests that “maybe the boy meant it for a joke,” and George laughs. Max tells him not to laugh and George says alright. To Al, Max says “he thinks it’s all right,” and Al replies, “Oh, he’s a thinker.” Max and Al want to seem like they are in control of the situation and know what they are doing, but their confusion over who ordered what reveals how easy it is to fluster them (and shows them to be either a little stupid or unobservant—an inauspicious beginning for criminals). Frustrated by this confusion, they again emasculate George to put him in his place as their inferior.\n"
     ]
    }
   ],
   "source": [
    "from sklearn.metrics.pairwise import cosine_similarity\n",
    "import numpy as np\n",
    "\n",
    "def sentence_vector(sentence, model):\n",
    "    words = sentence.split()\n",
    "    valid_vectors = [model.wv[word] for word in words if word in model.wv]\n",
    "    return np.mean(valid_vectors, axis=0) if valid_vectors else np.zeros(model.vector_size)\n",
    "\n",
    "user_input = \"I am feeling very sad and lonely. I don't have any friends to talk to.\"\n",
    "preprocessed_input = preprocess_text(user_input)\n",
    "input_vector = sentence_vector(preprocessed_input, Word2Vec_model_sg)\n",
    "\n",
    "corpus_vectors = [sentence_vector(entry, Word2Vec_model_sg) for entry in preprocessed_corpus]\n",
    "similarities = cosine_similarity([input_vector], corpus_vectors)\n",
    "\n",
    "most_similar_index = np.argmax(similarities)\n",
    "print(f\"Most similar entry: {corpus[most_similar_index]}\")\n"
   ]
  }
 ],
 "metadata": {
  "kernelspec": {
   "display_name": "licenta",
   "language": "python",
   "name": "python3"
  },
  "language_info": {
   "codemirror_mode": {
    "name": "ipython",
    "version": 3
   },
   "file_extension": ".py",
   "mimetype": "text/x-python",
   "name": "python",
   "nbconvert_exporter": "python",
   "pygments_lexer": "ipython3",
   "version": "3.10.13"
  }
 },
 "nbformat": 4,
 "nbformat_minor": 2
}
